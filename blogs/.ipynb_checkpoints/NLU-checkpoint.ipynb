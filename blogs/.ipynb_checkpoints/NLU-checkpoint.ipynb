{
 "cells": [
  {
   "cell_type": "markdown",
   "metadata": {},
   "source": [
    "Natural Language Processing:\n",
    "\n"
   ]
  },
  {
   "cell_type": "markdown",
   "metadata": {},
   "source": [
    "#### Prompt - \"Natural Language processing is\"\n",
    "\n",
    "<br>\n",
    "<br>\n",
    "<br>\n",
    "\n",
    "#### Prompt 1:\n",
    "<br><br>\n",
    "\n",
    "\n",
    "Natural Language processing is perhaps the most mysterious part of AI, especially given how easy it is to model natural language information in computer systems. Even using a simple neural network (a math-based model) to run a single sentence, an agent is still too complex to discern with any confidence what it is intended to say.\n",
    "<br>\n",
    "\n",
    "<br>\n",
    "\n",
    "\n",
    "#### Prompt 2:\n",
    "<br><br>\n",
    "\n",
    "\n",
    "Natural Language processing is a branch of cognitive science which explores the way our brains deal with language. Similar to other cognitive science projects, Chomsky's method entails studying natural languages which have been learned by humans and put into a digital format. By simply applying a machine learning algorithm to the database of speech data, a robot can learn to speak naturally and as quickly as a real person.\n",
    "\n",
    "<br>\n",
    "<br>\n",
    "\n",
    "#### Prompt 3:\n",
    "<br>\n",
    "<br>\n",
    "\n",
    "Natural Language processing is divided into the following areas:\n",
    "\n",
    "Generating artificial English language\n",
    "\n",
    "Syntactic analysis\n",
    "\n",
    "Semantic analysis\n",
    "\n",
    "Query handling\n",
    "\n",
    "Supporting natural language queries with shell programs\n",
    "\n",
    "<br>\n",
    "<br>\n",
    "\n",
    "#### Prompt 4:\n",
    "<br><br>\n",
    "\n",
    "\n",
    "Natural Language processing is the study of information gathered by humans from and through text, images, sounds, and other forms of communication. It also includes parsing and interpreting of that information and its associated grammatical structures and rules. These challenges are often represented as specific tasks for artificial intelligence—such as computer vision, speech recognition, natural language understanding, or the detection of sentiment or emotional bias in written messages—where natural language processing is performed on a text-based language or a non-text. Although these NLP challenges may be more interesting to researchers in that area, they are sometimes conflated with domain-specific task problems such as the implementation and analysis of machine learning models.\n",
    "\n",
    "Natural language processing is fundamentally concerned with the study of data and with the transformation of that data into knowledge"
   ]
  },
  {
   "cell_type": "markdown",
   "metadata": {},
   "source": [
    "## Natural Language Understanding:"
   ]
  },
  {
   "cell_type": "markdown",
   "metadata": {},
   "source": [
    "#### Prompt - \"Natural Language Understanding is\"\n",
    "\n",
    "<br>\n",
    "<br>\n",
    "<br>\n",
    "\n",
    "\n",
    "#### Prompt 1:\n",
    "<br><br>\n",
    "\n",
    "\n",
    "Natural Language Understanding is a unique branch of AI that is coming up to join the growing array of machine learning algorithms that are helping to process and share big data sets. Currently, there is an interest in this field of AI, particularly among automated decision makers who handle financial and other kind of data, for simple but very interesting tasks such as corporate logo design.\n",
    "<br>\n",
    "<br>\n",
    "\n",
    "\n",
    "#### Prompt 2:\n",
    "<br><br>\n",
    "\n",
    "\n",
    "Natural Language Understanding is the ability to have fast, accurate and rational response to information. Information is not just vague, it must be structured.\n",
    "\n",
    "A good computer will do an 'NLP' to take a sentence of text and distinguish it from that of others. This will be quicker than reading a word-for-word.\n",
    "\n",
    "Language is an energy-flow-based phenomenon. Our energy flows in a way that is consistent with being a part of reality. So this would cause us to find that the same rules apply, regardless of language we speak. It is a behavior.\n",
    "\n",
    "It is common for language to change, based on how the speaker feels, experience, situations, and places.\n",
    "\n",
    "Also Language is a social phenomenon. It is less of a\n",
    "\n",
    "\n",
    "\n",
    "<br>\n",
    "<br>\n",
    "\n",
    "\n",
    "#### Prompt 3:\n",
    "<br><br>\n",
    "\n",
    "\n",
    "Natural Language Understanding is the ability to learn and master several different languages and to comprehend, use, and understand sentences in those languages. \"Parallel cognition\" refers to the ability to learn multiple systems of language in one being.\n",
    "\n",
    "<br><br>\n",
    "\n",
    "\n",
    "#### Prompt 4:\n",
    "<br><br>\n",
    "\n",
    "\n",
    "Natural Language Understanding is a cognitive ability which allows an organism to rapidly and automatically process certain large numbers of pieces of information, the so called ciphers, that are much more complex than any verbal language\n",
    "\n",
    "<br><br>\n"
   ]
  },
  {
   "cell_type": "markdown",
   "metadata": {},
   "source": [
    "## Natural Language Generation\n"
   ]
  },
  {
   "cell_type": "markdown",
   "metadata": {},
   "source": [
    "#### Prompt: \"Natural Language Generation is\"\n",
    "\n",
    "\n",
    "<br><br><br>\n",
    "\n",
    "#### Prompt 1:\n",
    "<br><br>\n",
    "Natural Language Generation is a specification for a general-purpose and generic grammar-based natural language generative system. The goal is to be able to generate sentences that are a subset of natural languages as far as accuracy, meaning, and expressive power are concerned. The system must be sensitive to syntax (allowing the programmer to specify how certain symbols must be entered) and semantics (be capable of generating sentences according to rules specified by the user). The main goal of the system is not to model languages, but to be easy to use, general-purpose, and extensible.\n",
    "\n",
    "The design of the Linguistics component is based on previous work done on NLG grammars.\n",
    "\n",
    "<br><br>\n",
    "\n",
    "#### Prompt 2:\n",
    "<br><br>\n",
    "Natural Language Generation is incredibly difficult — mathematicians have been unable to solve it in the past, and good human intelligence is probably still 100,000 years away from that point. However, with parallel computing, the engineering constraints that render AI intelligence challenging for machine learning algorithms are being suddenly relaxed.\n",
    "\n",
    "Predicting the future is dangerous business\n",
    "\n",
    "AI will be autonomous, but it will also have control over every aspect of a system that it creates. This could lead to dangerous situations, such as humans starting wars, or some sort of scenario where an AI acts as judge, jury and executioner of humans. To ensure that AI remains undefended, we need to give it clear directives. Given the wide variety of legal systems (and vague guidelines), some AI will be programmed\n",
    "\n",
    "<br><br>\n",
    "#### Prompt 3:\n",
    "<br><br>\n",
    "\n",
    "Natural Language Generation is a skill that all Coders should have and I do not agree with all these discussions of code smell and more. Nevertheless, it is very easy to convince yourself that code smells can be caught, but it will be much more difficult to convince anyone else.\n",
    "\n",
    "The first thing that you have to do is to ask people about code smells. Every problem on your team is going to have a couple of different smells, however, it is not important which one you catch. Instead, it is better to try to pinpoint a signature smell on your code that solves a specific problem.\n",
    "<br><br>"
   ]
  },
  {
   "cell_type": "markdown",
   "metadata": {},
   "source": [
    "## Transformer Architecture"
   ]
  }
 ],
 "metadata": {
  "kernelspec": {
   "display_name": "Python 3",
   "language": "python",
   "name": "python3"
  },
  "language_info": {
   "codemirror_mode": {
    "name": "ipython",
    "version": 3
   },
   "file_extension": ".py",
   "mimetype": "text/x-python",
   "name": "python",
   "nbconvert_exporter": "python",
   "pygments_lexer": "ipython3",
   "version": "3.6.8"
  }
 },
 "nbformat": 4,
 "nbformat_minor": 2
}
